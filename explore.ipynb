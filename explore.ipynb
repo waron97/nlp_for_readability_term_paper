{
 "cells": [
  {
   "cell_type": "code",
   "execution_count": 2,
   "metadata": {},
   "outputs": [],
   "source": [
    "import xml.etree.ElementTree as ET"
   ]
  },
  {
   "cell_type": "code",
   "execution_count": 3,
   "metadata": {},
   "outputs": [],
   "source": [
    "tree = ET.parse('data/simple_wiki/page-articles.xml')"
   ]
  },
  {
   "cell_type": "code",
   "execution_count": 7,
   "metadata": {},
   "outputs": [],
   "source": [
    "root = tree.getroot()\n",
    "pages = root.findall(\"{http://www.mediawiki.org/xml/export-0.10/}page\")\n",
    "for page in pages:\n",
    "    id = page.find(\"{http://www.mediawiki.org/xml/export-0.10/}id\").text\n",
    "    title = page.find(\"{http://www.mediawiki.org/xml/export-0.10/}title\").text\n",
    "    text = page.find(\"{http://www.mediawiki.org/xml/export-0.10/}revision/{http://www.mediawiki.org/xml/export-0.10/}text\").text\n",
    "    "
   ]
  },
  {
   "cell_type": "code",
   "execution_count": 1,
   "metadata": {},
   "outputs": [],
   "source": [
    "import torch"
   ]
  },
  {
   "cell_type": "code",
   "execution_count": 3,
   "metadata": {},
   "outputs": [
    {
     "data": {
      "text/plain": [
       "['a']"
      ]
     },
     "execution_count": 3,
     "metadata": {},
     "output_type": "execute_result"
    }
   ],
   "source": [
    "a = torch.tensor([[0], [1], [2]])\n",
    "a.reshape(-1)\n",
    "[\"a\"][:10]"
   ]
  }
 ],
 "metadata": {
  "kernelspec": {
   "display_name": "term-paper-nfLWpm6z-py3.9",
   "language": "python",
   "name": "python3"
  },
  "language_info": {
   "codemirror_mode": {
    "name": "ipython",
    "version": 3
   },
   "file_extension": ".py",
   "mimetype": "text/x-python",
   "name": "python",
   "nbconvert_exporter": "python",
   "pygments_lexer": "ipython3",
   "version": "3.9.12"
  },
  "orig_nbformat": 4
 },
 "nbformat": 4,
 "nbformat_minor": 2
}
